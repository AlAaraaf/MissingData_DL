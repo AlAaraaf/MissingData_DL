{
 "cells": [
  {
   "attachments": {},
   "cell_type": "markdown",
   "metadata": {},
   "source": [
    "## Comparing distributions"
   ]
  },
  {
   "cell_type": "code",
   "execution_count": 109,
   "metadata": {},
   "outputs": [],
   "source": [
    "import pandas as pd\n",
    "import numpy as np\n",
    "from itertools import product\n",
    "from scipy.special import rel_entr\n",
    "numeric_variable_nums = dict([('boston', 12), ('house',8),('sim_1', 0),('sim_2',0), ('sim_1_tiny',0), ('sim_2_tiny',0)])"
   ]
  },
  {
   "cell_type": "code",
   "execution_count": 110,
   "metadata": {},
   "outputs": [],
   "source": [
    "# generate complete data's conditional distributions\n",
    "def generate_cond(dataset, mr, size, sample_id, is_vae = False):\n",
    "    if is_vae:\n",
    "        complete_data_path = '../vaeac/samples/'+ dataset + '/complete_' + str(mr) + '_' + str(size) + '/sample_' + str(sample_id) + '.csv'\n",
    "    else:\n",
    "        complete_data_path = './samples/' + dataset + '/complete_' + str(mr) + '_' + str(size) + '/sample_' + str(sample_id) + '.csv'\n",
    "    data = pd.read_csv(complete_data_path, header=None)\n",
    "\n",
    "    # divide cat/num type\n",
    "    num_index = list(range(data.shape[1] - numeric_variable_nums[dataset], data.shape[1]))\n",
    "    cat_index = list(range(0, data.shape[1] - numeric_variable_nums[dataset]))\n",
    "\n",
    "    # get all possible levels' combination for categorical variable\n",
    "    all_levels = [np.unique(data.iloc[:,i]).tolist() for i in cat_index]\n",
    "    all_levels_comb = list(product(*all_levels[:-1]))\n",
    "\n",
    "    # calculate conditional distributions for complete data\n",
    "    cond_dist_complete = dict.fromkeys(all_levels_comb, None)\n",
    "    for index, item in data.iterrows():\n",
    "        cond = (int(item[0]), int(item[1]), int(item[2]))\n",
    "        if cond_dist_complete[cond] == None:\n",
    "            cond_dist_complete[cond] = [0 for x in range(len(all_levels[-1]))]\n",
    "        cond_dist_complete[cond][int(item[3])] += 1\n",
    "\n",
    "    for key in cond_dist_complete.keys():\n",
    "        denom = sum(cond_dist_complete[key])\n",
    "        cond_dist_complete[key] = [round(x / denom, 3) for x in cond_dist_complete[key]]\n",
    "    \n",
    "    pdata = data.copy()\n",
    "    pdata[3] = np.random.permutation(pdata[3])\n",
    "\n",
    "    return all_levels, all_levels_comb, cond_dist_complete, pdata"
   ]
  },
  {
   "cell_type": "code",
   "execution_count": 111,
   "metadata": {},
   "outputs": [],
   "source": [
    "# calculate kl result for permutation data\n",
    "def perm_kl_result(all_levels, all_levels_comb, cond_dist_complete, perm_data):\n",
    "    cond_dist_imputed = dict.fromkeys(all_levels_comb, None)\n",
    "    for index, item in perm_data.iterrows():\n",
    "            cond = (item[0], item[1], item[2])\n",
    "            if cond_dist_imputed[cond] == None:\n",
    "                cond_dist_imputed[cond] = [0 for x in range(len(all_levels[-1]))]\n",
    "            cond_dist_imputed[cond][int(item[3])] += 1\n",
    "\n",
    "    for key in cond_dist_imputed.keys():\n",
    "        denom = sum(cond_dist_imputed[key])\n",
    "        cond_dist_imputed[key] = [round(x / denom, 3) for x in cond_dist_imputed[key]]\n",
    "\n",
    "    # output comparing KL divergence\n",
    "    comparison_dict = dict.fromkeys(all_levels_comb, None)\n",
    "    for key in comparison_dict.keys():\n",
    "        if cond_dist_imputed[key] == None:\n",
    "            continue\n",
    "        comparison_dict[key] = round(sum(rel_entr(cond_dist_complete[key], cond_dist_imputed[key])),6)\n",
    "    print(list(comparison_dict.values()))\n",
    "    average_kl = np.average(list(comparison_dict.values()))\n",
    "    return average_kl, comparison_dict"
   ]
  },
  {
   "cell_type": "code",
   "execution_count": 126,
   "metadata": {},
   "outputs": [],
   "source": [
    "# output KL divergence for each pair of conditional distribution in one sample\n",
    "def kl_comparison(method, imputed_data_folder, all_levels, all_levels_comb, cond_dist_complete, sample_id, impute_num):\n",
    "    # calculate conditional distributions from imputed datasets\n",
    "    cond_dist_imputed = dict.fromkeys(all_levels_comb, None)\n",
    "    for i in range(impute_num):\n",
    "        current_imputed_dir = imputed_data_folder + 'imputed_' + str(sample_id) + '_' + str(i) + '.csv'\n",
    "        imputed_data = pd.read_csv(current_imputed_dir, header=None)\n",
    "        for index, item in imputed_data.iterrows():\n",
    "            if (method == 'cart' or method == 'vaeac'):\n",
    "                item = [int(item[0] - 1), int(item[1] - 1), int(item[2] - 1), int(item[3] - 1)]\n",
    "            cond = (int(item[0]), int(item[1]), int(item[2]))\n",
    "            \n",
    "            if cond_dist_imputed[cond] == None:\n",
    "                cond_dist_imputed[cond] = [0 for x in range(len(all_levels[-1]))]\n",
    "            cond_dist_imputed[cond][int(item[3])] += 1\n",
    "\n",
    "    for key in cond_dist_imputed.keys():\n",
    "        if cond_dist_imputed[key] == None:\n",
    "            continue\n",
    "        denom = sum(cond_dist_imputed[key])\n",
    "        cond_dist_imputed[key] = [round(x / denom, 3) for x in cond_dist_imputed[key]]\n",
    "\n",
    "    # output comparing KL divergence\n",
    "    comparison_dict = dict.fromkeys(all_levels_comb, None)\n",
    "    for key in comparison_dict.keys():\n",
    "        if cond_dist_imputed[key] == None:\n",
    "            continue\n",
    "        comparison_dict[key] = round(sum(rel_entr(cond_dist_complete[key], cond_dist_imputed[key])),6)\n",
    "    print(list(comparison_dict.values()))\n",
    "    average_kl = np.average(list(comparison_dict.values()))\n",
    "    return average_kl, comparison_dict\n"
   ]
  },
  {
   "cell_type": "code",
   "execution_count": 65,
   "metadata": {},
   "outputs": [],
   "source": [
    "# calculate average result [complete || imputed]\n",
    "def average_kl_comparison(dataset, mr, size, sample_num, impute_num, method_list):\n",
    "    metric_avr_kl = pd.DataFrame(columns=['method','sample_id','avr_kl'])\n",
    "    for sample_id in range(sample_num):\n",
    "        all_levels, all_levels_comb, cond_dist_complete = generate_cond(dataset, mr, size, sample_id)\n",
    "        for method in method_list:\n",
    "            imputed_data_folder = './results/' + dataset + '/MCAR_' + str(mr) + '_' + str(size) + '/' + method + '/'\n",
    "            average_kl, kl_dict = kl_comparison(method, imputed_data_folder,all_levels, all_levels_comb, cond_dist_complete, sample_id, impute_num)"
   ]
  },
  {
   "attachments": {},
   "cell_type": "markdown",
   "metadata": {},
   "source": [
    "## sim_1_tiny"
   ]
  },
  {
   "cell_type": "code",
   "execution_count": 113,
   "metadata": {},
   "outputs": [],
   "source": [
    "# complete data\n",
    "# readin datasets (complete dataset)\n",
    "dataset = 'sim_1_tiny'\n",
    "mr = 0.3\n",
    "size = 5000\n",
    "sample_id = 0\n",
    "impute_num = 10\n",
    "all_levels, all_levels_comb, cond_dist_complete, perm_data = generate_cond(dataset, mr, size, sample_id)"
   ]
  },
  {
   "cell_type": "code",
   "execution_count": 114,
   "metadata": {},
   "outputs": [
    {
     "name": "stdout",
     "output_type": "stream",
     "text": [
      "[0.391457, 0.136594, 0.034667, 0.284934, 0.016709, 0.273354, 0.316254, 0.073562, 0.142621, 0.233405, 0.025106, 0.316026, 0.219032, 0.050958, 0.40536, 0.064692, 0.08999, 0.523802]\n"
     ]
    },
    {
     "data": {
      "text/plain": [
       "(0.19991794444444444,\n",
       " {(0.0, 0.0, 0.0): 0.391457,\n",
       "  (0.0, 0.0, 1.0): 0.136594,\n",
       "  (0.0, 0.0, 2.0): 0.034667,\n",
       "  (0.0, 1.0, 0.0): 0.284934,\n",
       "  (0.0, 1.0, 1.0): 0.016709,\n",
       "  (0.0, 1.0, 2.0): 0.273354,\n",
       "  (1.0, 0.0, 0.0): 0.316254,\n",
       "  (1.0, 0.0, 1.0): 0.073562,\n",
       "  (1.0, 0.0, 2.0): 0.142621,\n",
       "  (1.0, 1.0, 0.0): 0.233405,\n",
       "  (1.0, 1.0, 1.0): 0.025106,\n",
       "  (1.0, 1.0, 2.0): 0.316026,\n",
       "  (2.0, 0.0, 0.0): 0.219032,\n",
       "  (2.0, 0.0, 1.0): 0.050958,\n",
       "  (2.0, 0.0, 2.0): 0.40536,\n",
       "  (2.0, 1.0, 0.0): 0.064692,\n",
       "  (2.0, 1.0, 1.0): 0.08999,\n",
       "  (2.0, 1.0, 2.0): 0.523802})"
      ]
     },
     "execution_count": 114,
     "metadata": {},
     "output_type": "execute_result"
    }
   ],
   "source": [
    "# rand result\n",
    "perm_kl_result(all_levels, all_levels_comb, cond_dist_complete, perm_data)"
   ]
  },
  {
   "cell_type": "code",
   "execution_count": 115,
   "metadata": {},
   "outputs": [
    {
     "name": "stdout",
     "output_type": "stream",
     "text": [
      "[0.039814, 0.072842, 0.072016, 0.036914, 0.167206, 0.057063, 0.102783, 0.112805, 0.087603, 0.151329, 0.079316, 0.111291, 0.181049, 0.126689, 0.051071, 0.083868, 0.086296, 0.122726]\n",
      "0.09681561111111109\n"
     ]
    },
    {
     "data": {
      "text/plain": [
       "{(0.0, 0.0, 0.0): 0.039814,\n",
       " (0.0, 0.0, 1.0): 0.072842,\n",
       " (0.0, 0.0, 2.0): 0.072016,\n",
       " (0.0, 1.0, 0.0): 0.036914,\n",
       " (0.0, 1.0, 1.0): 0.167206,\n",
       " (0.0, 1.0, 2.0): 0.057063,\n",
       " (1.0, 0.0, 0.0): 0.102783,\n",
       " (1.0, 0.0, 1.0): 0.112805,\n",
       " (1.0, 0.0, 2.0): 0.087603,\n",
       " (1.0, 1.0, 0.0): 0.151329,\n",
       " (1.0, 1.0, 1.0): 0.079316,\n",
       " (1.0, 1.0, 2.0): 0.111291,\n",
       " (2.0, 0.0, 0.0): 0.181049,\n",
       " (2.0, 0.0, 1.0): 0.126689,\n",
       " (2.0, 0.0, 2.0): 0.051071,\n",
       " (2.0, 1.0, 0.0): 0.083868,\n",
       " (2.0, 1.0, 1.0): 0.086296,\n",
       " (2.0, 1.0, 2.0): 0.122726}"
      ]
     },
     "execution_count": 115,
     "metadata": {},
     "output_type": "execute_result"
    }
   ],
   "source": [
    "method = 'gain'\n",
    "imputed_data_folder = './results/' + dataset + '/MCAR_' + str(mr) + '_' + str(size) + '/' + method + '/'\n",
    "average_kl, comparison_dict = kl_comparison(method, imputed_data_folder,all_levels, all_levels_comb, cond_dist_complete, sample_id, impute_num)\n",
    "print(average_kl)\n",
    "comparison_dict"
   ]
  },
  {
   "cell_type": "code",
   "execution_count": 106,
   "metadata": {},
   "outputs": [
    {
     "name": "stdout",
     "output_type": "stream",
     "text": [
      "[0.003231, 0.000728, 0.000128, 0.002845, 0.002234, 0.006296, 0.000271, 0.000966, 0.001838, 0.000858, 0.005284, 0.002473, 0.009529, 0.003479, -0.000121, 0.002401, 0.000168, 0.003401]\n"
     ]
    },
    {
     "data": {
      "text/plain": [
       "(0.0025560555555555558,\n",
       " {(0.0, 0.0, 0.0): 0.003231,\n",
       "  (0.0, 0.0, 1.0): 0.000728,\n",
       "  (0.0, 0.0, 2.0): 0.000128,\n",
       "  (0.0, 1.0, 0.0): 0.002845,\n",
       "  (0.0, 1.0, 1.0): 0.002234,\n",
       "  (0.0, 1.0, 2.0): 0.006296,\n",
       "  (1.0, 0.0, 0.0): 0.000271,\n",
       "  (1.0, 0.0, 1.0): 0.000966,\n",
       "  (1.0, 0.0, 2.0): 0.001838,\n",
       "  (1.0, 1.0, 0.0): 0.000858,\n",
       "  (1.0, 1.0, 1.0): 0.005284,\n",
       "  (1.0, 1.0, 2.0): 0.002473,\n",
       "  (2.0, 0.0, 0.0): 0.009529,\n",
       "  (2.0, 0.0, 1.0): 0.003479,\n",
       "  (2.0, 0.0, 2.0): -0.000121,\n",
       "  (2.0, 1.0, 0.0): 0.002401,\n",
       "  (2.0, 1.0, 1.0): 0.000168,\n",
       "  (2.0, 1.0, 2.0): 0.003401})"
      ]
     },
     "execution_count": 106,
     "metadata": {},
     "output_type": "execute_result"
    }
   ],
   "source": [
    "method = 'cart'\n",
    "imputed_data_folder = './results/' + dataset + '/MCAR_' + str(mr) + '_' + str(size) + '/' + method + '/'\n",
    "kl_comparison(method, imputed_data_folder,all_levels, all_levels_comb, cond_dist_complete, sample_id, impute_num)"
   ]
  },
  {
   "cell_type": "code",
   "execution_count": 128,
   "metadata": {},
   "outputs": [
    {
     "ename": "KeyError",
     "evalue": "(1, -1, 1)",
     "output_type": "error",
     "traceback": [
      "\u001b[1;31m---------------------------------------------------------------------------\u001b[0m",
      "\u001b[1;31mKeyError\u001b[0m                                  Traceback (most recent call last)",
      "\u001b[1;32m~\\AppData\\Local\\Temp/ipykernel_7828/1002084663.py\u001b[0m in \u001b[0;36m<module>\u001b[1;34m\u001b[0m\n\u001b[0;32m      3\u001b[0m \u001b[0mmethod\u001b[0m \u001b[1;33m=\u001b[0m \u001b[1;34m'vaeac'\u001b[0m\u001b[1;33m\u001b[0m\u001b[1;33m\u001b[0m\u001b[0m\n\u001b[0;32m      4\u001b[0m \u001b[0mimputed_data_folder\u001b[0m \u001b[1;33m=\u001b[0m \u001b[1;34m'./results/'\u001b[0m \u001b[1;33m+\u001b[0m \u001b[0mdataset\u001b[0m \u001b[1;33m+\u001b[0m \u001b[1;34m'/MCAR_'\u001b[0m \u001b[1;33m+\u001b[0m \u001b[0mstr\u001b[0m\u001b[1;33m(\u001b[0m\u001b[0mmr\u001b[0m\u001b[1;33m)\u001b[0m \u001b[1;33m+\u001b[0m \u001b[1;34m'_'\u001b[0m \u001b[1;33m+\u001b[0m \u001b[0mstr\u001b[0m\u001b[1;33m(\u001b[0m\u001b[0msize\u001b[0m\u001b[1;33m)\u001b[0m \u001b[1;33m+\u001b[0m \u001b[1;34m'/'\u001b[0m \u001b[1;33m+\u001b[0m \u001b[0mmethod\u001b[0m \u001b[1;33m+\u001b[0m \u001b[1;34m'/'\u001b[0m\u001b[1;33m\u001b[0m\u001b[1;33m\u001b[0m\u001b[0m\n\u001b[1;32m----> 5\u001b[1;33m \u001b[0mkl_comparison\u001b[0m\u001b[1;33m(\u001b[0m\u001b[0mmethod\u001b[0m\u001b[1;33m,\u001b[0m \u001b[0mimputed_data_folder\u001b[0m\u001b[1;33m,\u001b[0m\u001b[0mall_levels_vae\u001b[0m\u001b[1;33m,\u001b[0m \u001b[0mall_levels_comb_vae\u001b[0m\u001b[1;33m,\u001b[0m \u001b[0mcond_dist_complete_vae\u001b[0m\u001b[1;33m,\u001b[0m \u001b[0msample_id\u001b[0m\u001b[1;33m,\u001b[0m \u001b[0mimpute_num\u001b[0m\u001b[1;33m)\u001b[0m\u001b[1;33m\u001b[0m\u001b[1;33m\u001b[0m\u001b[0m\n\u001b[0m",
      "\u001b[1;32m~\\AppData\\Local\\Temp/ipykernel_7828/4185433015.py\u001b[0m in \u001b[0;36mkl_comparison\u001b[1;34m(method, imputed_data_folder, all_levels, all_levels_comb, cond_dist_complete, sample_id, impute_num)\u001b[0m\n\u001b[0;32m     11\u001b[0m             \u001b[0mcond\u001b[0m \u001b[1;33m=\u001b[0m \u001b[1;33m(\u001b[0m\u001b[0mint\u001b[0m\u001b[1;33m(\u001b[0m\u001b[0mitem\u001b[0m\u001b[1;33m[\u001b[0m\u001b[1;36m0\u001b[0m\u001b[1;33m]\u001b[0m\u001b[1;33m)\u001b[0m\u001b[1;33m,\u001b[0m \u001b[0mint\u001b[0m\u001b[1;33m(\u001b[0m\u001b[0mitem\u001b[0m\u001b[1;33m[\u001b[0m\u001b[1;36m1\u001b[0m\u001b[1;33m]\u001b[0m\u001b[1;33m)\u001b[0m\u001b[1;33m,\u001b[0m \u001b[0mint\u001b[0m\u001b[1;33m(\u001b[0m\u001b[0mitem\u001b[0m\u001b[1;33m[\u001b[0m\u001b[1;36m2\u001b[0m\u001b[1;33m]\u001b[0m\u001b[1;33m)\u001b[0m\u001b[1;33m)\u001b[0m\u001b[1;33m\u001b[0m\u001b[1;33m\u001b[0m\u001b[0m\n\u001b[0;32m     12\u001b[0m \u001b[1;33m\u001b[0m\u001b[0m\n\u001b[1;32m---> 13\u001b[1;33m             \u001b[1;32mif\u001b[0m \u001b[0mcond_dist_imputed\u001b[0m\u001b[1;33m[\u001b[0m\u001b[0mcond\u001b[0m\u001b[1;33m]\u001b[0m \u001b[1;33m==\u001b[0m \u001b[1;32mNone\u001b[0m\u001b[1;33m:\u001b[0m\u001b[1;33m\u001b[0m\u001b[1;33m\u001b[0m\u001b[0m\n\u001b[0m\u001b[0;32m     14\u001b[0m                 \u001b[0mcond_dist_imputed\u001b[0m\u001b[1;33m[\u001b[0m\u001b[0mcond\u001b[0m\u001b[1;33m]\u001b[0m \u001b[1;33m=\u001b[0m \u001b[1;33m[\u001b[0m\u001b[1;36m0\u001b[0m \u001b[1;32mfor\u001b[0m \u001b[0mx\u001b[0m \u001b[1;32min\u001b[0m \u001b[0mrange\u001b[0m\u001b[1;33m(\u001b[0m\u001b[0mlen\u001b[0m\u001b[1;33m(\u001b[0m\u001b[0mall_levels\u001b[0m\u001b[1;33m[\u001b[0m\u001b[1;33m-\u001b[0m\u001b[1;36m1\u001b[0m\u001b[1;33m]\u001b[0m\u001b[1;33m)\u001b[0m\u001b[1;33m)\u001b[0m\u001b[1;33m]\u001b[0m\u001b[1;33m\u001b[0m\u001b[1;33m\u001b[0m\u001b[0m\n\u001b[0;32m     15\u001b[0m             \u001b[0mcond_dist_imputed\u001b[0m\u001b[1;33m[\u001b[0m\u001b[0mcond\u001b[0m\u001b[1;33m]\u001b[0m\u001b[1;33m[\u001b[0m\u001b[0mint\u001b[0m\u001b[1;33m(\u001b[0m\u001b[0mitem\u001b[0m\u001b[1;33m[\u001b[0m\u001b[1;36m3\u001b[0m\u001b[1;33m]\u001b[0m\u001b[1;33m)\u001b[0m\u001b[1;33m]\u001b[0m \u001b[1;33m+=\u001b[0m \u001b[1;36m1\u001b[0m\u001b[1;33m\u001b[0m\u001b[1;33m\u001b[0m\u001b[0m\n",
      "\u001b[1;31mKeyError\u001b[0m: (1, -1, 1)"
     ]
    }
   ],
   "source": [
    "all_levels_vae, all_levels_comb_vae, cond_dist_complete_vae,_ = generate_cond(dataset, mr, size, sample_id, True)\n",
    "\n",
    "method = 'vaeac'\n",
    "imputed_data_folder = './results/' + dataset + '/MCAR_' + str(mr) + '_' + str(size) + '/' + method + '/'\n",
    "kl_comparison(method, imputed_data_folder,all_levels_vae, all_levels_comb_vae, cond_dist_complete_vae, sample_id, impute_num)"
   ]
  },
  {
   "cell_type": "code",
   "execution_count": 136,
   "metadata": {},
   "outputs": [
    {
     "data": {
      "text/html": [
       "<div>\n",
       "<style scoped>\n",
       "    .dataframe tbody tr th:only-of-type {\n",
       "        vertical-align: middle;\n",
       "    }\n",
       "\n",
       "    .dataframe tbody tr th {\n",
       "        vertical-align: top;\n",
       "    }\n",
       "\n",
       "    .dataframe thead th {\n",
       "        text-align: right;\n",
       "    }\n",
       "</style>\n",
       "<table border=\"1\" class=\"dataframe\">\n",
       "  <thead>\n",
       "    <tr style=\"text-align: right;\">\n",
       "      <th></th>\n",
       "      <th>0</th>\n",
       "      <th>1</th>\n",
       "      <th>2</th>\n",
       "      <th>3</th>\n",
       "    </tr>\n",
       "  </thead>\n",
       "  <tbody>\n",
       "    <tr>\n",
       "      <th>count</th>\n",
       "      <td>5000.000000</td>\n",
       "      <td>5000.000000</td>\n",
       "      <td>5000.000000</td>\n",
       "      <td>5000.000000</td>\n",
       "    </tr>\n",
       "    <tr>\n",
       "      <th>mean</th>\n",
       "      <td>3.011800</td>\n",
       "      <td>1.494000</td>\n",
       "      <td>1.130000</td>\n",
       "      <td>1.039800</td>\n",
       "    </tr>\n",
       "    <tr>\n",
       "      <th>std</th>\n",
       "      <td>0.817187</td>\n",
       "      <td>0.500014</td>\n",
       "      <td>0.901811</td>\n",
       "      <td>1.159347</td>\n",
       "    </tr>\n",
       "    <tr>\n",
       "      <th>min</th>\n",
       "      <td>2.000000</td>\n",
       "      <td>1.000000</td>\n",
       "      <td>0.000000</td>\n",
       "      <td>0.000000</td>\n",
       "    </tr>\n",
       "    <tr>\n",
       "      <th>25%</th>\n",
       "      <td>2.000000</td>\n",
       "      <td>1.000000</td>\n",
       "      <td>0.000000</td>\n",
       "      <td>0.000000</td>\n",
       "    </tr>\n",
       "    <tr>\n",
       "      <th>50%</th>\n",
       "      <td>3.000000</td>\n",
       "      <td>1.000000</td>\n",
       "      <td>1.000000</td>\n",
       "      <td>1.000000</td>\n",
       "    </tr>\n",
       "    <tr>\n",
       "      <th>75%</th>\n",
       "      <td>4.000000</td>\n",
       "      <td>2.000000</td>\n",
       "      <td>2.000000</td>\n",
       "      <td>2.000000</td>\n",
       "    </tr>\n",
       "    <tr>\n",
       "      <th>max</th>\n",
       "      <td>4.000000</td>\n",
       "      <td>2.000000</td>\n",
       "      <td>4.000000</td>\n",
       "      <td>3.000000</td>\n",
       "    </tr>\n",
       "  </tbody>\n",
       "</table>\n",
       "</div>"
      ],
      "text/plain": [
       "                 0            1            2            3\n",
       "count  5000.000000  5000.000000  5000.000000  5000.000000\n",
       "mean      3.011800     1.494000     1.130000     1.039800\n",
       "std       0.817187     0.500014     0.901811     1.159347\n",
       "min       2.000000     1.000000     0.000000     0.000000\n",
       "25%       2.000000     1.000000     0.000000     0.000000\n",
       "50%       3.000000     1.000000     1.000000     1.000000\n",
       "75%       4.000000     2.000000     2.000000     2.000000\n",
       "max       4.000000     2.000000     4.000000     3.000000"
      ]
     },
     "execution_count": 136,
     "metadata": {},
     "output_type": "execute_result"
    }
   ],
   "source": [
    "path = 'D:/sjx/ISU/projects/DataImputation/MissingData_DL/results/sim_1_tiny/MCAR_0.3_5000/vaeac/imputed_0_0.csv'\n",
    "data = pd.read_csv(path, header = None)\n",
    "data.describe()"
   ]
  }
 ],
 "metadata": {
  "kernelspec": {
   "display_name": "jiaxin",
   "language": "python",
   "name": "python3"
  },
  "language_info": {
   "codemirror_mode": {
    "name": "ipython",
    "version": 3
   },
   "file_extension": ".py",
   "mimetype": "text/x-python",
   "name": "python",
   "nbconvert_exporter": "python",
   "pygments_lexer": "ipython3",
   "version": "3.7.9"
  },
  "orig_nbformat": 4,
  "vscode": {
   "interpreter": {
    "hash": "b739a31c4e4fe91c4490fb43f878478212ee9ffd58aeb08e90becf4444522421"
   }
  }
 },
 "nbformat": 4,
 "nbformat_minor": 2
}
