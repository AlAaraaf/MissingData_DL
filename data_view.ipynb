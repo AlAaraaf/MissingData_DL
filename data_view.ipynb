{
 "cells": [
  {
   "attachments": {},
   "cell_type": "markdown",
   "metadata": {},
   "source": [
    "## Comparing distributions - wrpped functions"
   ]
  },
  {
   "cell_type": "code",
   "execution_count": 39,
   "metadata": {},
   "outputs": [],
   "source": [
    "import pandas as pd\n",
    "import numpy as np\n",
    "from itertools import product\n",
    "from scipy.special import rel_entr\n",
    "from matplotlib import pyplot as plt\n",
    "from sklearn.metrics import mean_squared_error, mean_absolute_error\n",
    "from seaborn import displot\n",
    "numeric_variable_nums = dict([('boston', 12), ('house',8),('sim_1', 0),('sim_2',0), ('sim_1_tiny',0), ('sim_2_tiny',0), ('sim_m1',1), ('sim_m2',1), ('sim_m3',1), ('sim_m4',1)])"
   ]
  },
  {
   "cell_type": "code",
   "execution_count": 2,
   "metadata": {},
   "outputs": [],
   "source": [
    "# generate complete data's conditional distributions\n",
    "def generate_cond(dataset, mr, size, sample_id):\n",
    "    complete_data_path = '../training_data/samples/' + dataset + '/complete_' + str(mr) + '_' + str(size) + '/sample_' + str(sample_id) + '.csv'\n",
    "    data = pd.read_csv(complete_data_path, header=None)\n",
    "\n",
    "    # divide cat/num type\n",
    "    num_index = list(range(data.shape[1] - numeric_variable_nums[dataset], data.shape[1]))\n",
    "    cat_index = list(range(0, data.shape[1] - numeric_variable_nums[dataset]))\n",
    "\n",
    "    # get all possible levels' combination for categorical variable\n",
    "    all_levels = [np.unique(data.iloc[:,i]).tolist() for i in cat_index]\n",
    "    all_levels_comb = list(product(*all_levels[:-1]))\n",
    "\n",
    "    # calculate conditional distributions for complete data\n",
    "    cond_dist_complete = dict.fromkeys(all_levels_comb, None)\n",
    "    for index, item in data.iterrows():\n",
    "        cond = (int(item[0]), int(item[1]), int(item[2]))\n",
    "        if cond_dist_complete[cond] == None:\n",
    "            cond_dist_complete[cond] = [0 for x in range(len(all_levels[-1]))]\n",
    "        cond_dist_complete[cond][int(item[3])] += 1\n",
    "\n",
    "    for key in cond_dist_complete.keys():\n",
    "        denom = sum(cond_dist_complete[key])\n",
    "        cond_dist_complete[key] = [round(x / denom, 3) for x in cond_dist_complete[key]]\n",
    "    \n",
    "    pdata = data.copy()\n",
    "    pdata[3] = np.random.permutation(pdata[3])\n",
    "\n",
    "    return all_levels, all_levels_comb, cond_dist_complete, pdata"
   ]
  },
  {
   "cell_type": "code",
   "execution_count": 3,
   "metadata": {},
   "outputs": [],
   "source": [
    "# calculate kl result for permutation data\n",
    "def perm_kl_result(all_levels, all_levels_comb, cond_dist_complete, perm_data):\n",
    "    cond_dist_imputed = dict.fromkeys(all_levels_comb, None)\n",
    "    for index, item in perm_data.iterrows():\n",
    "            cond = (item[0], item[1], item[2])\n",
    "            if cond_dist_imputed[cond] == None:\n",
    "                cond_dist_imputed[cond] = [0 for x in range(len(all_levels[-1]))]\n",
    "            cond_dist_imputed[cond][int(item[3])] += 1\n",
    "\n",
    "    for key in cond_dist_imputed.keys():\n",
    "        denom = sum(cond_dist_imputed[key])\n",
    "        cond_dist_imputed[key] = [round(x / denom, 3) for x in cond_dist_imputed[key]]\n",
    "\n",
    "    # output comparing KL divergence\n",
    "    comparison_dict = dict.fromkeys(all_levels_comb, None)\n",
    "    for key in comparison_dict.keys():\n",
    "        if cond_dist_imputed[key] == None:\n",
    "            continue\n",
    "        comparison_dict[key] = round(sum(rel_entr(cond_dist_complete[key], cond_dist_imputed[key])),6)\n",
    "    average_kl = np.average(list(comparison_dict.values()))\n",
    "    return average_kl, comparison_dict"
   ]
  },
  {
   "cell_type": "code",
   "execution_count": 4,
   "metadata": {},
   "outputs": [],
   "source": [
    "# output KL divergence for each pair of conditional distribution in one sample\n",
    "def kl_comparison(method, imputed_data_folder, all_levels, all_levels_comb, cond_dist_complete, sample_id, impute_num):\n",
    "    # calculate conditional distributions from imputed datasets\n",
    "    cond_dist_imputed = dict.fromkeys(all_levels_comb, None)\n",
    "    for i in range(impute_num):\n",
    "        current_imputed_dir = imputed_data_folder + 'imputed_' + str(sample_id) + '_' + str(i) + '.csv'\n",
    "        imputed_data = pd.read_csv(current_imputed_dir, header=None)\n",
    "        for index, item in imputed_data.iterrows():\n",
    "            if (method == 'cart'):\n",
    "                item = [int(item[0] - 1), int(item[1] - 1), int(item[2] - 1), int(item[3] - 1)]\n",
    "            cond = (int(item[0]), int(item[1]), int(item[2]))\n",
    "            \n",
    "            if cond_dist_imputed[cond] == None:\n",
    "                cond_dist_imputed[cond] = [0 for x in range(len(all_levels[-1]))]\n",
    "            cond_dist_imputed[cond][int(item[3])] += 1\n",
    "\n",
    "    for key in cond_dist_imputed.keys():\n",
    "        if cond_dist_imputed[key] == None:\n",
    "            continue\n",
    "        denom = sum(cond_dist_imputed[key])\n",
    "        cond_dist_imputed[key] = [round(x / denom, 3) for x in cond_dist_imputed[key]]\n",
    "\n",
    "    # output comparing KL divergence\n",
    "    comparison_dict = dict.fromkeys(all_levels_comb, None)\n",
    "    for key in comparison_dict.keys():\n",
    "        if cond_dist_imputed[key] == None:\n",
    "            continue\n",
    "        comparison_dict[key] = round(sum(rel_entr(cond_dist_complete[key], cond_dist_imputed[key])),6)\n",
    "    average_kl = np.average(list(comparison_dict.values()))\n",
    "    return average_kl, comparison_dict, cond_dist_imputed\n"
   ]
  },
  {
   "cell_type": "code",
   "execution_count": 28,
   "metadata": {},
   "outputs": [],
   "source": [
    "# output conditional distribution plots\n",
    "def cd_plots(cond_dist_complete, cond_dist_imputed, method_list, nrow, ncol, cond = None):\n",
    "    \n",
    "    if cond == None:\n",
    "        x_lab = range(4)\n",
    "        figure, axes = plt.subplots(nrows=nrow, ncols = ncol, figsize = (15,15))\n",
    "        axes = axes.reshape(1,-1)\n",
    "        indx = 0\n",
    "\n",
    "        for key in cond_dist_complete.keys():\n",
    "            cond_dist = cond_dist_complete[key]\n",
    "            compare_data = pd.DataFrame({'Ground Truth': cond_dist})\n",
    "            for method in method_list:\n",
    "                imputed_dist = cond_dist_imputed[method][key]\n",
    "                compare_data[method] = imputed_dist\n",
    "            compare_data.plot(kind = 'bar', ylim = [0,1], title=str(key), ax = axes[0][indx], legend=False)\n",
    "            indx += 1\n",
    "        bar,label = axes[0][0].get_legend_handles_labels()\n",
    "        figure.legend(bar, label, loc = 'upper right')\n",
    "        plt.subplots_adjust(hspace=1)\n",
    "        plt.show()\n",
    "    \n",
    "    else:\n",
    "        x_lab = range(4)\n",
    "        cond_dist = cond_dist_complete[cond]\n",
    "        compare_data = pd.DataFrame({'Ground Truth': cond_dist})\n",
    "        for method in method_list:\n",
    "            imputed_dist = cond_dist_imputed[method][cond]\n",
    "            compare_data[method] = imputed_dist\n",
    "        compare_data = pd.DataFrame({'Ground Truth': cond_dist, 'Imputation': imputed_dist}, \n",
    "                                    index=x_lab)\n",
    "        compare_data.plot(kind = 'bar', ylim = [0,1], title=str(cond))\n"
   ]
  },
  {
   "attachments": {},
   "cell_type": "markdown",
   "metadata": {},
   "source": [
    "### sim_1"
   ]
  },
  {
   "cell_type": "code",
   "execution_count": 27,
   "metadata": {},
   "outputs": [],
   "source": [
    "# complete data\n",
    "# readin datasets (complete dataset)\n",
    "dataset = 'sim_1'\n",
    "mr = 0.3\n",
    "size = 5000\n",
    "sample_id = 0\n",
    "impute_num = 10\n",
    "all_levels, all_levels_comb, cond_dist_complete, perm_data = generate_cond(dataset, mr, size, sample_id)"
   ]
  },
  {
   "cell_type": "code",
   "execution_count": 18,
   "metadata": {},
   "outputs": [
    {
     "name": "stdout",
     "output_type": "stream",
     "text": [
      "[1.220069, 0.426697, 0.181805, 0.659439, 0.260634, 0.67118, 0.901205, 0.382857, 0.506973, 0.48859, 0.456542, 0.785712, 0.559643, 0.428726, 0.690983, 0.27329, 0.487196, 1.195497]\n"
     ]
    },
    {
     "data": {
      "text/plain": [
       "(0.5876132222222223,\n",
       " {(0.0, 0.0, 0.0): 1.220069,\n",
       "  (0.0, 0.0, 1.0): 0.426697,\n",
       "  (0.0, 0.0, 2.0): 0.181805,\n",
       "  (0.0, 1.0, 0.0): 0.659439,\n",
       "  (0.0, 1.0, 1.0): 0.260634,\n",
       "  (0.0, 1.0, 2.0): 0.67118,\n",
       "  (1.0, 0.0, 0.0): 0.901205,\n",
       "  (1.0, 0.0, 1.0): 0.382857,\n",
       "  (1.0, 0.0, 2.0): 0.506973,\n",
       "  (1.0, 1.0, 0.0): 0.48859,\n",
       "  (1.0, 1.0, 1.0): 0.456542,\n",
       "  (1.0, 1.0, 2.0): 0.785712,\n",
       "  (2.0, 0.0, 0.0): 0.559643,\n",
       "  (2.0, 0.0, 1.0): 0.428726,\n",
       "  (2.0, 0.0, 2.0): 0.690983,\n",
       "  (2.0, 1.0, 0.0): 0.27329,\n",
       "  (2.0, 1.0, 1.0): 0.487196,\n",
       "  (2.0, 1.0, 2.0): 1.195497})"
      ]
     },
     "execution_count": 18,
     "metadata": {},
     "output_type": "execute_result"
    }
   ],
   "source": [
    "# rand result\n",
    "perm_kl_result(all_levels, all_levels_comb, cond_dist_complete, perm_data)"
   ]
  },
  {
   "cell_type": "code",
   "execution_count": 38,
   "metadata": {},
   "outputs": [
    {
     "data": {
      "text/plain": [
       "{'gain': 0.05098988888888889,\n",
       " 'cart': 0.007968722222222223,\n",
       " 'vaeac': 0.19053716666666667}"
      ]
     },
     "execution_count": 38,
     "metadata": {},
     "output_type": "execute_result"
    }
   ],
   "source": [
    "# comparison between three methods\n",
    "method_list = ['gain','cart','vaeac']\n",
    "average_kl = dict.fromkeys(method_list, None)\n",
    "comparison_dict = dict.fromkeys(method_list, None)\n",
    "cond_dist_imputed = dict.fromkeys(method_list, None)\n",
    "\n",
    "for method in method_list:\n",
    "    imputed_data_folder = './results/' + dataset + '/MCAR_' + str(mr) + '_' + str(size) + '/' + method + '/'\n",
    "    result = kl_comparison(method,imputed_data_folder,\n",
    "                         all_levels, all_levels_comb, cond_dist_complete,\n",
    "                         sample_id, impute_num)\n",
    "    average_kl[method], comparison_dict[method], cond_dist_imputed[method] = result\n",
    "\n",
    "average_kl\n",
    "    "
   ]
  },
  {
   "cell_type": "code",
   "execution_count": 39,
   "metadata": {},
   "outputs": [
    {
     "data": {
      "image/png": "[encoded data removed]",
      "text/plain": [
       "<Figure size 1080x1080 with 18 Axes>"
      ]
     },
     "metadata": {
      "needs_background": "light"
     },
     "output_type": "display_data"
    }
   ],
   "source": [
    "# conditional distributions \n",
    "method_list = ['cart','gain','vaeac']\n",
    "cd_plots(cond_dist_complete, cond_dist_imputed,method_list, 6,3)"
   ]
  },
  {
   "cell_type": "code",
   "execution_count": 6,
   "metadata": {},
   "outputs": [],
   "source": [
    "# renew VAE's metric\n",
    "dataset = 'sim_1'\n",
    "mr = 0.3\n",
    "size = 5000\n",
    "sample_id = 0\n",
    "impute_num = 10\n",
    "all_levels, all_levels_comb, cond_dist_complete, perm_data = generate_cond(dataset, mr, size, sample_id)"
   ]
  },
  {
   "cell_type": "code",
   "execution_count": 7,
   "metadata": {},
   "outputs": [
    {
     "data": {
      "text/plain": [
       "0.5966370555555556"
      ]
     },
     "execution_count": 7,
     "metadata": {},
     "output_type": "execute_result"
    }
   ],
   "source": [
    "average_kl, comparison_dict = perm_kl_result(all_levels, all_levels_comb, cond_dist_complete, perm_data)\n",
    "average_kl"
   ]
  },
  {
   "cell_type": "code",
   "execution_count": 8,
   "metadata": {},
   "outputs": [
    {
     "name": "stdout",
     "output_type": "stream",
     "text": [
      "{'vaeac': 0.19053716666666667}\n",
      "dict_values([[0.955, 0.045, 0.0, 0.0], [0.554, 0.371, 0.075, 0.0], [0.297, 0.152, 0.334, 0.217], [0.776, 0.202, 0.023, 0.0], [0.415, 0.322, 0.243, 0.02], [0.257, 0.03, 0.279, 0.434], [0.853, 0.138, 0.01, 0.0], [0.385, 0.401, 0.204, 0.01], [0.281, 0.062, 0.321, 0.336], [0.661, 0.274, 0.065, 0.0], [0.314, 0.212, 0.376, 0.098], [0.285, 0.0, 0.133, 0.582], [0.771, 0.207, 0.022, 0.0], [0.303, 0.265, 0.379, 0.053], [0.25, 0.003, 0.2, 0.547], [0.48, 0.349, 0.156, 0.015], [0.31, 0.077, 0.414, 0.199], [0.29, 0.0, 0.029, 0.68]])\n"
     ]
    }
   ],
   "source": [
    "method_list = ['vaeac']\n",
    "average_kl = dict.fromkeys(method_list, None)\n",
    "comparison_dict = dict.fromkeys(method_list, None)\n",
    "cond_dist_imputed = dict.fromkeys(method_list, None)\n",
    "\n",
    "for method in method_list:\n",
    "    imputed_data_folder = '../training_data/results/' + dataset + '/MCAR_' + str(mr) + '_' + str(size) + '/' + method + '/'\n",
    "    result = kl_comparison(method,imputed_data_folder,\n",
    "                         all_levels, all_levels_comb, cond_dist_complete,\n",
    "                         sample_id, impute_num)\n",
    "    average_kl[method], comparison_dict[method], cond_dist_imputed[method] = result\n",
    "\n",
    "print(average_kl)\n",
    "print(cond_dist_imputed[method].values())"
   ]
  },
  {
   "cell_type": "code",
   "execution_count": 10,
   "metadata": {},
   "outputs": [
    {
     "name": "stdout",
     "output_type": "stream",
     "text": [
      "{'vaeac': 0.19053716666666667}\n",
      "dict_values([[0.955, 0.045, 0.0, 0.0], [0.554, 0.371, 0.075, 0.0], [0.297, 0.152, 0.334, 0.217], [0.776, 0.202, 0.023, 0.0], [0.415, 0.322, 0.243, 0.02], [0.257, 0.03, 0.279, 0.434], [0.853, 0.138, 0.01, 0.0], [0.385, 0.401, 0.204, 0.01], [0.281, 0.062, 0.321, 0.336], [0.661, 0.274, 0.065, 0.0], [0.314, 0.212, 0.376, 0.098], [0.285, 0.0, 0.133, 0.582], [0.771, 0.207, 0.022, 0.0], [0.303, 0.265, 0.379, 0.053], [0.25, 0.003, 0.2, 0.547], [0.48, 0.349, 0.156, 0.015], [0.31, 0.077, 0.414, 0.199], [0.29, 0.0, 0.029, 0.68]])\n"
     ]
    }
   ],
   "source": [
    "method_list = ['vaeac']\n",
    "average_kl = dict.fromkeys(method_list, None)\n",
    "comparison_dict = dict.fromkeys(method_list, None)\n",
    "cond_dist_imputed = dict.fromkeys(method_list, None)\n",
    "\n",
    "for method in method_list:\n",
    "    imputed_data_folder = '../training_data/results/' + dataset + '/MCAR_' + str(mr) + '_' + str(size) + '/' + method + '/'\n",
    "    result = kl_comparison(method,imputed_data_folder,\n",
    "                         all_levels, all_levels_comb, cond_dist_complete,\n",
    "                         sample_id, impute_num)\n",
    "    average_kl[method], comparison_dict[method], cond_dist_imputed[method] = result\n",
    "\n",
    "print(average_kl)\n",
    "print(cond_dist_imputed[method].values())"
   ]
  },
  {
   "attachments": {},
   "cell_type": "markdown",
   "metadata": {},
   "source": [
    "### sim_2"
   ]
  },
  {
   "cell_type": "code",
   "execution_count": 22,
   "metadata": {},
   "outputs": [],
   "source": [
    "# complete data\n",
    "# readin datasets (complete dataset)\n",
    "dataset = 'sim_2'\n",
    "mr = 0.3\n",
    "size = 5000\n",
    "sample_id = 0\n",
    "impute_num = 10\n",
    "all_levels, all_levels_comb, cond_dist_complete, perm_data = generate_cond(dataset, mr, size, sample_id)"
   ]
  },
  {
   "cell_type": "code",
   "execution_count": 23,
   "metadata": {},
   "outputs": [
    {
     "name": "stdout",
     "output_type": "stream",
     "text": [
      "[0.046429, 0.047712, 0.091113, 1.204747, 0.674148, 0.010496, 0.022096, 0.059605, 0.196473, 0.377025, 0.052042, 0.394743, 0.097519, 0.267855, 0.371849, 0.064264, 0.259836, 0.895627]\n"
     ]
    },
    {
     "data": {
      "text/plain": [
       "(0.28519883333333335,\n",
       " {(0.0, 0.0, 0.0): 0.046429,\n",
       "  (0.0, 0.0, 1.0): 0.047712,\n",
       "  (0.0, 0.0, 2.0): 0.091113,\n",
       "  (0.0, 1.0, 0.0): 1.204747,\n",
       "  (0.0, 1.0, 1.0): 0.674148,\n",
       "  (0.0, 1.0, 2.0): 0.010496,\n",
       "  (1.0, 0.0, 0.0): 0.022096,\n",
       "  (1.0, 0.0, 1.0): 0.059605,\n",
       "  (1.0, 0.0, 2.0): 0.196473,\n",
       "  (1.0, 1.0, 0.0): 0.377025,\n",
       "  (1.0, 1.0, 1.0): 0.052042,\n",
       "  (1.0, 1.0, 2.0): 0.394743,\n",
       "  (2.0, 0.0, 0.0): 0.097519,\n",
       "  (2.0, 0.0, 1.0): 0.267855,\n",
       "  (2.0, 0.0, 2.0): 0.371849,\n",
       "  (2.0, 1.0, 0.0): 0.064264,\n",
       "  (2.0, 1.0, 1.0): 0.259836,\n",
       "  (2.0, 1.0, 2.0): 0.895627})"
      ]
     },
     "execution_count": 23,
     "metadata": {},
     "output_type": "execute_result"
    }
   ],
   "source": [
    "# rand result\n",
    "perm_kl_result(all_levels, all_levels_comb, cond_dist_complete, perm_data)"
   ]
  },
  {
   "cell_type": "code",
   "execution_count": 24,
   "metadata": {},
   "outputs": [],
   "source": [
    "method_list = ['gain','cart', 'vaeac']\n",
    "average_kl = dict.fromkeys(method_list, None)\n",
    "comparison_dict = dict.fromkeys(method_list, None)\n",
    "cond_dist_imputed = dict.fromkeys(method_list, None)\n",
    "\n",
    "for method in method_list:\n",
    "    imputed_data_folder = './results/' + dataset + '/MCAR_' + str(mr) + '_' + str(size) + '/' + method + '/'\n",
    "    result = kl_comparison(method,imputed_data_folder,\n",
    "                         all_levels, all_levels_comb, cond_dist_complete,\n",
    "                         sample_id, impute_num)\n",
    "    average_kl[method], comparison_dict[method], cond_dist_imputed[method] = result"
   ]
  },
  {
   "cell_type": "code",
   "execution_count": 25,
   "metadata": {},
   "outputs": [
    {
     "data": {
      "text/plain": [
       "{'gain': 0.07470694444444444,\n",
       " 'cart': 0.0077919999999999994,\n",
       " 'vaeac': 0.1528415}"
      ]
     },
     "execution_count": 25,
     "metadata": {},
     "output_type": "execute_result"
    }
   ],
   "source": [
    "average_kl"
   ]
  },
  {
   "cell_type": "code",
   "execution_count": 26,
   "metadata": {},
   "outputs": [
    {
     "data": {
      "image/png": "[encoded data removed]",
      "text/plain": [
       "<Figure size 1080x1080 with 18 Axes>"
      ]
     },
     "metadata": {
      "needs_background": "light"
     },
     "output_type": "display_data"
    }
   ],
   "source": [
    "method_list = ['cart','gain', 'vaeac']\n",
    "cd_plots(cond_dist_complete, cond_dist_imputed,method_list, 6,3)"
   ]
  },
  {
   "attachments": {},
   "cell_type": "markdown",
   "metadata": {},
   "source": [
    "## x is categorical, y is continuous - wrapped functions"
   ]
  },
  {
   "cell_type": "code",
   "execution_count": 4,
   "metadata": {},
   "outputs": [],
   "source": [
    "# generate complete data's conditional distributions (x is categorical, y is continuous)\n",
    "# tag each data piece with corresponding condition\n",
    "# each value in cond_dist_complete is a dataset\n",
    "\n",
    "def strint(x):\n",
    "    return str(int(x))\n",
    "\n",
    "def generate_cond_cont(dataset, mr, size, sample_id, attn_var):\n",
    "    complete_data_path = '../training_data/samples/' + dataset + '/complete_' + str(mr) + '_' + str(size) + '/sample_' + str(sample_id) + '.csv'\n",
    "    data = pd.read_csv(complete_data_path, header=None)\n",
    "\n",
    "    # get all possible levels' combination for categorical variable that we specified\n",
    "    all_levels = [np.unique(data.iloc[:,i]).tolist() for i in attn_var]\n",
    "    all_levels_comb = list(product(*all_levels))\n",
    "\n",
    "    # extract conditional distributions for complete data\n",
    "    cond_dist_complete = dict.fromkeys(all_levels_comb, None)\n",
    "    condtag = []\n",
    "    \n",
    "    for index, item in data.iterrows():\n",
    "        cond = '-'.join([strint(item[i]) for i in attn_var])\n",
    "        condtag.append(cond)\n",
    "    \n",
    "    data['cond'] = condtag\n",
    "    \n",
    "    for key in all_levels_comb:\n",
    "        str_key = '-'.join([strint(key[i]) for i in attn_var])\n",
    "        cond_dist_complete[key] = data.loc[data['cond'] == str_key][5].values.tolist()\n",
    "    \n",
    "    pdata = data.copy()\n",
    "    pdata[5] = np.random.permutation(pdata[5])\n",
    "\n",
    "    return all_levels, all_levels_comb, cond_dist_complete, pdata"
   ]
  },
  {
   "cell_type": "code",
   "execution_count": 5,
   "metadata": {},
   "outputs": [],
   "source": [
    "# output MSE/MAE for each pair of specified conditional distribution in one sample\n",
    "# extract conditional dataset from imputed datasets\n",
    "def metric_comparison(method, imputed_data_folder, all_levels, all_levels_comb, cond_dist_complete, attn_var, sample_id, impute_num):\n",
    "\n",
    "    cond_dist_imputed = dict.fromkeys(all_levels_comb, [])\n",
    "    mse_list = dict.fromkeys(all_levels_comb, [])\n",
    "    mae_list = dict.fromkeys(all_levels_comb, [])\n",
    "\n",
    "    for i in range(impute_num):\n",
    "        current_imputed_dir = imputed_data_folder + 'imputed_' + str(sample_id) + '_' + str(i) + '.csv'\n",
    "        imputed_data = pd.read_csv(current_imputed_dir, header=None)\n",
    "        condtag = []\n",
    "        \n",
    "        for index, item in imputed_data.iterrows():\n",
    "            if (method == 'cart'):\n",
    "                item = [int(item[x] - 1) for x in range(len(item))]\n",
    "            cond = '-'.join([strint(item[i]) for i in attn_var])\n",
    "            condtag.append(cond)\n",
    "        \n",
    "        imputed_data['cond'] = condtag\n",
    "\n",
    "        for key in all_levels_comb:\n",
    "            str_key = '-'.join([strint(key[i]) for i in range(len(key))])\n",
    "            cond_imputed_data = imputed_data.loc[imputed_data['cond'] == str_key][5].values.tolist()\n",
    "            \n",
    "            # add data to imputed conditional distribution\n",
    "            cond_dist_imputed[key].append(cond_imputed_data)\n",
    "\n",
    "            # calculate metrics\n",
    "            y_true = cond_dist_complete[key]\n",
    "            mse_list[key].append(mean_squared_error(y_true, cond_imputed_data))\n",
    "            mae_list[key].append(mean_absolute_error(y_true, cond_imputed_data))\n",
    "        \n",
    "        return cond_dist_imputed, mse_list, mae_list"
   ]
  },
  {
   "cell_type": "code",
   "execution_count": 63,
   "metadata": {},
   "outputs": [],
   "source": [
    "# calculate MSE result for permutation data (x is categorical, y is continuous)\n",
    "def perm_metric_result(all_levels, all_levels_comb, cond_dist_complete, perm_data, attn_var):\n",
    "    \n",
    "    cond_dist_imputed = dict.fromkeys(all_levels_comb, None)\n",
    "    mse_list = dict.fromkeys(all_levels_comb, None)\n",
    "    mae_list = dict.fromkeys(all_levels_comb, None)\n",
    "    condtag = []\n",
    "        \n",
    "    for index, item in perm_data.iterrows():\n",
    "        cond = '-'.join([strint(item[i]) for i in attn_var])\n",
    "        condtag.append(cond)\n",
    "    \n",
    "    perm_data['cond'] = condtag\n",
    "\n",
    "    for key in all_levels_comb:\n",
    "        str_key = '-'.join([strint(key[i]) for i in range(len(key))])\n",
    "        cond_imputed_data = perm_data.loc[perm_data['cond'] == str_key][5].values.tolist()\n",
    "        \n",
    "        # add data to imputed conditional distribution\n",
    "        cond_dist_imputed[key] = cond_imputed_data\n",
    "\n",
    "        # calculate metrics\n",
    "        y_true = cond_dist_complete[key]\n",
    "        mse_list[key] = mean_squared_error(y_true, cond_imputed_data)\n",
    "        mae_list[key] = mean_absolute_error(y_true, cond_imputed_data)\n",
    "    \n",
    "    return cond_dist_imputed, mse_list, mae_list"
   ]
  },
  {
   "cell_type": "code",
   "execution_count": 56,
   "metadata": {},
   "outputs": [],
   "source": [
    "# draw comparing density plots\n",
    "def cd_density_plots(all_levels_comb, cond_dist_complete, cond_dist_imputed, nrow, ncol):\n",
    "    \n",
    "    #_, axes = plt.subplots(nrows=nrow, ncols = ncol, figsize = (15,15))\n",
    "    #axes = axes.reshape(1,-1)\n",
    "    indx = 0\n",
    "    \n",
    "    for key in all_levels_comb:\n",
    "        dataset = pd.DataFrame({'GT':cond_dist_complete[key], 'imputed':cond_dist_imputed[key]})\n",
    "        dataset = pd.melt(dataset, var_name='Dataset',value_name='value')\n",
    "        displot(dataset, kind='kde', hue='Dataset', x = 'value')\n",
    "        indx += 1"
   ]
  },
  {
   "attachments": {},
   "cell_type": "markdown",
   "metadata": {},
   "source": [
    "###  sim_3"
   ]
  },
  {
   "attachments": {},
   "cell_type": "markdown",
   "metadata": {},
   "source": [
    "M1 - $Y = X_1^2 + \\exp(X_2 + X_3/3) + \\sin(X_4 + X_5) + \\epsilon, \\epsilon \\sim N(0,1)$"
   ]
  },
  {
   "cell_type": "code",
   "execution_count": 61,
   "metadata": {},
   "outputs": [],
   "source": [
    "# complete data\n",
    "# readin datasets (complete dataset)\n",
    "dataset = 'sim_m1'\n",
    "mr = 0.3\n",
    "size = 5000\n",
    "sample_id = 0\n",
    "impute_num = 10\n",
    "attn_var = [0,1]\n",
    "all_levels, all_levels_comb, cond_dist_complete, perm_data = generate_cond_cont(dataset, mr, size, sample_id, attn_var)"
   ]
  },
  {
   "cell_type": "code",
   "execution_count": 60,
   "metadata": {},
   "outputs": [
    {
     "data": {
      "text/html": [
       "<div>\n",
       "<style scoped>\n",
       "    .dataframe tbody tr th:only-of-type {\n",
       "        vertical-align: middle;\n",
       "    }\n",
       "\n",
       "    .dataframe tbody tr th {\n",
       "        vertical-align: top;\n",
       "    }\n",
       "\n",
       "    .dataframe thead th {\n",
       "        text-align: right;\n",
       "    }\n",
       "</style>\n",
       "<table border=\"1\" class=\"dataframe\">\n",
       "  <thead>\n",
       "    <tr style=\"text-align: right;\">\n",
       "      <th></th>\n",
       "      <th>key</th>\n",
       "      <th>mse</th>\n",
       "      <th>mae</th>\n",
       "    </tr>\n",
       "  </thead>\n",
       "  <tbody>\n",
       "    <tr>\n",
       "      <th>0</th>\n",
       "      <td>(0.0, 0.0)</td>\n",
       "      <td>14.611161</td>\n",
       "      <td>2.670516</td>\n",
       "    </tr>\n",
       "    <tr>\n",
       "      <th>1</th>\n",
       "      <td>(0.0, 1.0)</td>\n",
       "      <td>25.362473</td>\n",
       "      <td>3.421818</td>\n",
       "    </tr>\n",
       "    <tr>\n",
       "      <th>2</th>\n",
       "      <td>(1.0, 0.0)</td>\n",
       "      <td>18.997905</td>\n",
       "      <td>2.908228</td>\n",
       "    </tr>\n",
       "    <tr>\n",
       "      <th>3</th>\n",
       "      <td>(1.0, 1.0)</td>\n",
       "      <td>24.658261</td>\n",
       "      <td>3.159304</td>\n",
       "    </tr>\n",
       "    <tr>\n",
       "      <th>4</th>\n",
       "      <td>(2.0, 0.0)</td>\n",
       "      <td>12.282207</td>\n",
       "      <td>2.552266</td>\n",
       "    </tr>\n",
       "    <tr>\n",
       "      <th>5</th>\n",
       "      <td>(2.0, 1.0)</td>\n",
       "      <td>27.654116</td>\n",
       "      <td>3.535271</td>\n",
       "    </tr>\n",
       "    <tr>\n",
       "      <th>avr</th>\n",
       "      <td>NaN</td>\n",
       "      <td>20.594354</td>\n",
       "      <td>3.041234</td>\n",
       "    </tr>\n",
       "  </tbody>\n",
       "</table>\n",
       "</div>"
      ],
      "text/plain": [
       "            key        mse       mae\n",
       "0    (0.0, 0.0)  14.611161  2.670516\n",
       "1    (0.0, 1.0)  25.362473  3.421818\n",
       "2    (1.0, 0.0)  18.997905  2.908228\n",
       "3    (1.0, 1.0)  24.658261  3.159304\n",
       "4    (2.0, 0.0)  12.282207  2.552266\n",
       "5    (2.0, 1.0)  27.654116  3.535271\n",
       "avr         NaN  20.594354  3.041234"
      ]
     },
     "execution_count": 60,
     "metadata": {},
     "output_type": "execute_result"
    }
   ],
   "source": [
    "cond_dist_perm, mse_perm, mae_perm = perm_metric_result(all_levels, all_levels_comb, cond_dist_complete, perm_data, attn_var)\n",
    "\n",
    "col_key = all_levels_comb\n",
    "mse_avr = [np.average(item) for item in mse_perm.values()]\n",
    "mae_avr = [np.average(item) for item in mae_perm.values()]\n",
    "result = pd.DataFrame({'key': col_key, 'mse' :mse_avr, 'mae' : mae_avr})\n",
    "result.loc['avr'] = result.mean()\n",
    "\n",
    "result"
   ]
  },
  {
   "cell_type": "code",
   "execution_count": null,
   "metadata": {},
   "outputs": [],
   "source": []
  },
  {
   "cell_type": "code",
   "execution_count": null,
   "metadata": {},
   "outputs": [],
   "source": []
  },
  {
   "attachments": {},
   "cell_type": "markdown",
   "metadata": {},
   "source": [
    "## sim_4"
   ]
  },
  {
   "attachments": {},
   "cell_type": "markdown",
   "metadata": {},
   "source": [
    "M2 - $Y = X_1^2 + \\exp(X_2 + X_3/3) + X_4 - X_5 + (0.5 + X_2^2/2 + X_5^2/2) \\times \\epsilon, \\epsilon \\sim N(0,1)$"
   ]
  },
  {
   "cell_type": "code",
   "execution_count": null,
   "metadata": {},
   "outputs": [],
   "source": []
  },
  {
   "attachments": {},
   "cell_type": "markdown",
   "metadata": {},
   "source": [
    "## sim_5"
   ]
  },
  {
   "attachments": {},
   "cell_type": "markdown",
   "metadata": {},
   "source": [
    "M3 - $Y = (5+X_1^2/3 + X_2^2 + X_3^2 + X_4 + X_5) \\times \\exp(0.5 \\times \\epsilon), \\epsilon \\sim \\boldsymbol{I}_{U<0.5}\\times N(-2,1)+\\boldsymbol{I}_{U>0.5} \\times N(2,1)$"
   ]
  },
  {
   "cell_type": "code",
   "execution_count": null,
   "metadata": {},
   "outputs": [],
   "source": []
  },
  {
   "attachments": {},
   "cell_type": "markdown",
   "metadata": {},
   "source": [
    "## sim_6"
   ]
  },
  {
   "attachments": {},
   "cell_type": "markdown",
   "metadata": {},
   "source": [
    "M4 - $Y = \\boldsymbol{I}_{u<0.5}\\times N(-X_1, 0.25^2) + \\boldsymbol{I}_{u>0.5}\\times N(X_1, 0.25^2)$"
   ]
  },
  {
   "cell_type": "code",
   "execution_count": null,
   "metadata": {},
   "outputs": [],
   "source": []
  }
 ],
 "metadata": {
  "kernelspec": {
   "display_name": "jiaxin",
   "language": "python",
   "name": "python3"
  },
  "language_info": {
   "codemirror_mode": {
    "name": "ipython",
    "version": 3
   },
   "file_extension": ".py",
   "mimetype": "text/x-python",
   "name": "python",
   "nbconvert_exporter": "python",
   "pygments_lexer": "ipython3",
   "version": "3.7.9"
  },
  "orig_nbformat": 4,
  "vscode": {
   "interpreter": {
    "hash": "d2acdd26e99e306dc6f2c003d3eaee203dc5d649139314d67f5d96f9df98eed9"
   }
  }
 },
 "nbformat": 4,
 "nbformat_minor": 2
}
